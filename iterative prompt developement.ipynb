{
 "cells": [
  {
   "cell_type": "code",
   "execution_count": 18,
   "id": "30697220-8af3-48c1-af2d-a9ce26de3ecc",
   "metadata": {},
   "outputs": [],
   "source": [
    "import google.generativeai as genai\n",
    "from dotenv import load_dotenv\n",
    "import os\n",
    "load_dotenv()\n",
    "api_key=os.getenv(\"API_KEY\")\n",
    "# Configure API key\n",
    "genai.configure(api_key=api_key)\n",
    "\n",
    "# Create model instance\n",
    "model = genai.GenerativeModel(model_name=\"models/gemini-2.5-flash-lite\")\n",
    "\n",
    "# Function to generate response\n",
    "def get_completion(prompt):\n",
    "    response = model.generate_content(prompt)\n",
    "    return response.text"
   ]
  },
  {
   "cell_type": "code",
   "execution_count": 3,
   "id": "286290cf-aa12-49f2-96d6-3c1fdd4e9c5c",
   "metadata": {},
   "outputs": [],
   "source": [
    "fact_sheet_chair = \"\"\"\n",
    "OVERVIEW\n",
    "- Part of a beautiful family of mid-century inspired office furniture, \n",
    "including filing cabinets, desks, bookcases, meeting tables, and more.\n",
    "- Several options of shell color and base finishes.\n",
    "- Available with plastic back and front upholstery (SWC-100) \n",
    "or full upholstery (SWC-110) in 10 fabric and 6 leather options.\n",
    "- Base finish options are: stainless steel, matte black, \n",
    "gloss white, or chrome.\n",
    "- Chair is available with or without armrests.\n",
    "- Suitable for home or business settings.\n",
    "- Qualified for contract use.\n",
    "\n",
    "CONSTRUCTION\n",
    "- 5-wheel plastic coated aluminum base.\n",
    "- Pneumatic chair adjust for easy raise/lower action.\n",
    "\n",
    "DIMENSIONS\n",
    "- WIDTH 53 CM | 20.87”\n",
    "- DEPTH 51 CM | 20.08”\n",
    "- HEIGHT 80 CM | 31.50”\n",
    "- SEAT HEIGHT 44 CM | 17.32”\n",
    "- SEAT DEPTH 41 CM | 16.14”\n",
    "\n",
    "OPTIONS\n",
    "- Soft or hard-floor caster options.\n",
    "- Two choices of seat foam densities: \n",
    " medium (1.8 lb/ft3) or high (2.8 lb/ft3)\n",
    "- Armless or 8 position PU armrests \n",
    "\n",
    "MATERIALS\n",
    "SHELL BASE GLIDER\n",
    "- Cast Aluminum with modified nylon PA6/PA66 coating.\n",
    "- Shell thickness: 10 mm.\n",
    "SEAT\n",
    "- HD36 foam\n",
    "\n",
    "COUNTRY OF ORIGIN\n",
    "- Italy\n",
    "\"\"\""
   ]
  },
  {
   "cell_type": "code",
   "execution_count": 4,
   "id": "ae3773ce-ca74-46ab-9acd-f7b319432e10",
   "metadata": {},
   "outputs": [
    {
     "name": "stdout",
     "output_type": "stream",
     "text": [
      "## Elevate Your Workspace with Mid-Century Modern Style and Uncompromising Comfort\n",
      "\n",
      "**Bring timeless design and exceptional quality to your home or office with this exquisitely crafted office chair.** Inspired by the elegant simplicity of mid-century modern aesthetics, this chair is a standout piece that seamlessly integrates into a broader collection of stylish office furniture, including filing cabinets, desks, bookcases, and meeting tables.\n",
      "\n",
      "**Personalize your space with a spectrum of sophisticated choices.** Select from a range of captivating shell colors and complement your decor with your preferred base finish. Choose between the sleek **plastic back and front upholstery (SWC-100)** or the sumptuously comfortable **full upholstery (SWC-110)**, available in your choice of 10 luxurious fabric or 6 rich leather options. The robust base is offered in striking **stainless steel, matte black, glossy white, or polished chrome**, ensuring a perfect match for any environment. Further tailor your comfort and style with the option of **armless design or 8-position adjustable PU armrests**.\n",
      "\n",
      "**Engineered for durability and effortless adjustability.** The chair features a stable, **plastic-coated aluminum 5-wheel base** for smooth mobility across any floor surface, with your choice of **soft or hard-floor casters**. Experience effortless height adjustment with the reliable **pneumatic chair lift**. Inside, you'll find high-density **HD36 foam** for superior seating comfort, with two foam density options – **medium (1.8 lb/ft3)** or **high (2.8 lb/ft3)** – allowing you to customize your seating experience. The robust shell, crafted from **cast aluminum with a durable modified nylon coating**, boasts a substantial 10mm thickness for lasting quality.\n",
      "\n",
      "**Designed for both style and function, this chair is not only perfect for creating an inviting home office but is also qualified for demanding contract use in professional settings.**\n",
      "\n",
      "**Dimensions:**\n",
      "*   Width: 53 CM | 20.87”\n",
      "*   Depth: 51 CM | 20.08”\n",
      "*   Height: 80 CM | 31.50”\n",
      "*   Seat Height: 44 CM | 17.32”\n",
      "*   Seat Depth: 41 CM | 16.14”\n",
      "\n",
      "**Proudly Made in Italy.**\n"
     ]
    }
   ],
   "source": [
    "prompt = f\"\"\"\n",
    "Your task is to help a marketing team create a \n",
    "description for a retail website of a product based \n",
    "on a technical fact sheet.\n",
    "\n",
    "Write a product description based on the information \n",
    "provided in the technical specifications delimited by \n",
    "triple backticks.\n",
    "\n",
    "Technical specifications: ```{fact_sheet_chair}```\n",
    "\"\"\"\n",
    "response = get_completion(prompt)\n",
    "print(response)\n"
   ]
  },
  {
   "cell_type": "code",
   "execution_count": 5,
   "id": "51cba425-be46-4487-a09d-ffc920ffd8e2",
   "metadata": {},
   "outputs": [
    {
     "name": "stdout",
     "output_type": "stream",
     "text": [
      "Experience mid-century style with this versatile office chair. Crafted in Italy, it features a durable aluminum base, pneumatic lift, and customizable upholstery. Choose from various colors, finishes, and armrest options to perfectly complement your home or business.\n"
     ]
    }
   ],
   "source": [
    "prompt = f\"\"\"\n",
    "Your task is to help a marketing team create a \n",
    "description for a retail website of a product based \n",
    "on a technical fact sheet.\n",
    "\n",
    "Write a product description based on the information \n",
    "provided in the technical specifications delimited by \n",
    "triple backticks.\n",
    "\n",
    "Use at most 50 words.\n",
    "Technical specifications: ```{fact_sheet_chair}```\n",
    "\"\"\"\n",
    "response = get_completion(prompt)\n",
    "print(response)"
   ]
  },
  {
   "cell_type": "code",
   "execution_count": 7,
   "id": "a1409c05-49be-42f2-b32d-fa08dd81ce80",
   "metadata": {},
   "outputs": [
    {
     "name": "stdout",
     "output_type": "stream",
     "text": [
      "Elevate your workspace with this mid-century inspired office chair, crafted in Italy with a durable aluminum base and available in a range of stylish shell colors and base finishes. Choose between plastic back and front upholstery or full upholstery in a variety of fabric and leather options, with or without armrests, to perfectly suit your home or business. Featuring pneumatic height adjustment and optional caster types for your preferred flooring, this chair offers both comfort and adaptable style.\n"
     ]
    }
   ],
   "source": [
    "prompt = f\"\"\"\n",
    "Your task is to help a marketing team create a \n",
    "description for a retail website of a product based \n",
    "on a technical fact sheet.\n",
    "\n",
    "Write a product description based on the information \n",
    "provided in the technical specifications delimited by \n",
    "triple backticks.\n",
    "\n",
    "Use at most 3 three sentences.\n",
    "Technical specifications: ```{fact_sheet_chair}```\n",
    "\"\"\"\n",
    "response = get_completion(prompt)\n",
    "print(response)"
   ]
  },
  {
   "cell_type": "code",
   "execution_count": 6,
   "id": "40668b79-7116-496a-8136-fb3a30a43d12",
   "metadata": {},
   "outputs": [
    {
     "data": {
      "text/plain": [
       "37"
      ]
     },
     "execution_count": 6,
     "metadata": {},
     "output_type": "execute_result"
    }
   ],
   "source": [
    "len(response.split(\" \"))"
   ]
  },
  {
   "cell_type": "code",
   "execution_count": 8,
   "id": "d8b9593e-4111-44fa-990c-da30268abb67",
   "metadata": {},
   "outputs": [
    {
     "name": "stdout",
     "output_type": "stream",
     "text": [
      "Elevate your workspace with this mid-century inspired office chair. Crafted in Italy, it features a durable aluminum base, pneumatic height adjustment, and customizable upholstery options. Choose from various shell colors, base finishes, and armrest configurations to perfectly match your home or business.\n"
     ]
    }
   ],
   "source": [
    "prompt = f\"\"\"\n",
    "Your task is to help a marketing team create a \n",
    "description for a retail website of a product based \n",
    "on a technical fact sheet.\n",
    "\n",
    "Write a product description based on the information \n",
    "provided in the technical specifications delimited by \n",
    "triple backticks.\n",
    "\n",
    "Use at most 50 words.\n",
    "Technical specifications: ```{fact_sheet_chair}```\n",
    "\"\"\"\n",
    "response = get_completion(prompt)\n",
    "print(response)"
   ]
  },
  {
   "cell_type": "code",
   "execution_count": 9,
   "id": "69692822-9cb7-487e-9dbe-a977dc64c841",
   "metadata": {},
   "outputs": [
    {
     "name": "stdout",
     "output_type": "stream",
     "text": [
      "This chair features a 10mm cast aluminum shell with a durable plastic coating. Upholstered in HD36 foam, it rests on a 5-wheel plastic-coated aluminum base. Available with or without armrests and in various fabric/leather options for versatile contract use. Made in Italy.\n"
     ]
    }
   ],
   "source": [
    "prompt = f\"\"\"\n",
    "Your task is to help a marketing team create a \n",
    "description for a retail website of a product based \n",
    "on a technical fact sheet.\n",
    "\n",
    "Write a product description based on the information \n",
    "provided in the technical specifications delimited by \n",
    "triple backticks.\n",
    "\n",
    "The description is intended for furniture retailers, \n",
    "so should be technical in nature and focus on the \n",
    "materials the product is constructed from.\n",
    "\n",
    "Use at most 50 words.\n",
    "\n",
    "Technical specifications: ```{fact_sheet_chair}```\n",
    "\"\"\"\n",
    "response = get_completion(prompt)\n",
    "print(response)"
   ]
  },
  {
   "cell_type": "code",
   "execution_count": 10,
   "id": "40346b74-1e02-423e-a46a-70b428c5a613",
   "metadata": {},
   "outputs": [
    {
     "name": "stdout",
     "output_type": "stream",
     "text": [
      "Crafted with a 10mm cast aluminum shell coated in modified nylon (PA6/PA66). Features HD36 foam seating and a 5-wheel plastic-coated aluminum base. Available with fabric or leather upholstery and various base finishes.\n",
      "\n",
      "SWC-100, SWC-110\n"
     ]
    }
   ],
   "source": [
    "prompt = f\"\"\"\n",
    "Your task is to help a marketing team create a \n",
    "description for a retail website of a product based \n",
    "on a technical fact sheet.\n",
    "\n",
    "Write a product description based on the information \n",
    "provided in the technical specifications delimited by \n",
    "triple backticks.\n",
    "\n",
    "The description is intended for furniture retailers, \n",
    "so should be technical in nature and focus on the \n",
    "materials the product is constructed from.\n",
    "\n",
    "At the end of the description, include every 7-character \n",
    "Product ID in the technical specification.\n",
    "\n",
    "Use at most 50 words.\n",
    "\n",
    "Technical specifications: ```{fact_sheet_chair}```\n",
    "\"\"\"\n",
    "response = get_completion(prompt)\n",
    "print(response)"
   ]
  },
  {
   "cell_type": "code",
   "execution_count": 11,
   "id": "d2d8eb8c-4a9b-43da-a1a1-14ab32345c32",
   "metadata": {},
   "outputs": [
    {
     "name": "stdout",
     "output_type": "stream",
     "text": [
      "```html\n",
      "<div>\n",
      "  <p>This executive chair, a sophisticated addition to any office environment, showcases a robust construction designed for both aesthetic appeal and enduring performance. The central element is the 5-wheel plastic-coated aluminum base, engineered for smooth mobility and stability. Complementing this is a molded shell crafted from cast aluminum, finished with a durable modified nylon PA6/PA66 coating, ensuring a substantial 10mm thickness for inherent strength. The seat is upholstered with HD36 foam, providing exceptional comfort and support, suitable for extended periods of use. This chair is qualified for contract use, attesting to its durability and suitability for commercial applications. Available in various upholstery options and base finishes, this piece integrates seamlessly into the broader mid-century inspired office furniture collection, offering a cohesive design solution.</p>\n",
      "  <p>Product IDs: SWC-100, SWC-110</p>\n",
      "</div>\n",
      "\n",
      "<h2>Product Dimensions</h2>\n",
      "<table>\n",
      "  <tr>\n",
      "    <th>Dimension</th>\n",
      "    <th>Measurement (inches)</th>\n",
      "  </tr>\n",
      "  <tr>\n",
      "    <td>Width</td>\n",
      "    <td>20.87</td>\n",
      "  </tr>\n",
      "  <tr>\n",
      "    <td>Depth</td>\n",
      "    <td>20.08</td>\n",
      "  </tr>\n",
      "  <tr>\n",
      "    <td>Height</td>\n",
      "    <td>31.50</td>\n",
      "  </tr>\n",
      "  <tr>\n",
      "    <td>Seat Height</td>\n",
      "    <td>17.32</td>\n",
      "  </tr>\n",
      "  <tr>\n",
      "    <td>Seat Depth</td>\n",
      "    <td>16.14</td>\n",
      "  </tr>\n",
      "</table>\n",
      "```\n"
     ]
    }
   ],
   "source": [
    "prompt = f\"\"\"\n",
    "Your task is to help a marketing team create a \n",
    "description for a retail website of a product based \n",
    "on a technical fact sheet.\n",
    "\n",
    "Write a product description based on the information \n",
    "provided in the technical specifications delimited by \n",
    "triple backticks.\n",
    "\n",
    "The description is intended for furniture retailers, \n",
    "so should be technical in nature and focus on the \n",
    "materials the product is constructed from.\n",
    "\n",
    "At the end of the description, include every 7-character \n",
    "Product ID in the technical specification.\n",
    "\n",
    "After the description, include a table that gives the \n",
    "product's dimensions. The table should have two columns.\n",
    "In the first column include the name of the dimension. \n",
    "In the second column include the measurements in inches only.\n",
    "\n",
    "Give the table the title 'Product Dimensions'.\n",
    "\n",
    "Format everything as HTML that can be used in a website. \n",
    "Place the description in a <div> element.\n",
    "\n",
    "Technical specifications: ```{fact_sheet_chair}```\n",
    "\"\"\"\n",
    "\n",
    "response = get_completion(prompt)\n",
    "print(response)"
   ]
  },
  {
   "cell_type": "code",
   "execution_count": 13,
   "id": "7f4bf216-e7d5-4070-8170-93b80fab3349",
   "metadata": {},
   "outputs": [],
   "source": [
    "from IPython.display import display,HTML"
   ]
  },
  {
   "cell_type": "code",
   "execution_count": 14,
   "id": "99804ef9-f4c5-48be-8461-2e69cba9749c",
   "metadata": {},
   "outputs": [
    {
     "data": {
      "text/html": [
       "```html\n",
       "<div>\n",
       "  <p>This executive chair, a sophisticated addition to any office environment, showcases a robust construction designed for both aesthetic appeal and enduring performance. The central element is the 5-wheel plastic-coated aluminum base, engineered for smooth mobility and stability. Complementing this is a molded shell crafted from cast aluminum, finished with a durable modified nylon PA6/PA66 coating, ensuring a substantial 10mm thickness for inherent strength. The seat is upholstered with HD36 foam, providing exceptional comfort and support, suitable for extended periods of use. This chair is qualified for contract use, attesting to its durability and suitability for commercial applications. Available in various upholstery options and base finishes, this piece integrates seamlessly into the broader mid-century inspired office furniture collection, offering a cohesive design solution.</p>\n",
       "  <p>Product IDs: SWC-100, SWC-110</p>\n",
       "</div>\n",
       "\n",
       "<h2>Product Dimensions</h2>\n",
       "<table>\n",
       "  <tr>\n",
       "    <th>Dimension</th>\n",
       "    <th>Measurement (inches)</th>\n",
       "  </tr>\n",
       "  <tr>\n",
       "    <td>Width</td>\n",
       "    <td>20.87</td>\n",
       "  </tr>\n",
       "  <tr>\n",
       "    <td>Depth</td>\n",
       "    <td>20.08</td>\n",
       "  </tr>\n",
       "  <tr>\n",
       "    <td>Height</td>\n",
       "    <td>31.50</td>\n",
       "  </tr>\n",
       "  <tr>\n",
       "    <td>Seat Height</td>\n",
       "    <td>17.32</td>\n",
       "  </tr>\n",
       "  <tr>\n",
       "    <td>Seat Depth</td>\n",
       "    <td>16.14</td>\n",
       "  </tr>\n",
       "</table>\n",
       "```"
      ],
      "text/plain": [
       "<IPython.core.display.HTML object>"
      ]
     },
     "metadata": {},
     "output_type": "display_data"
    }
   ],
   "source": [
    "display(HTML(response))"
   ]
  },
  {
   "cell_type": "code",
   "execution_count": null,
   "id": "cf7573a2-421b-4994-ad82-e3e58a8651c2",
   "metadata": {},
   "outputs": [],
   "source": []
  }
 ],
 "metadata": {
  "kernelspec": {
   "display_name": "Python 3 (ipykernel)",
   "language": "python",
   "name": "python3"
  },
  "language_info": {
   "codemirror_mode": {
    "name": "ipython",
    "version": 3
   },
   "file_extension": ".py",
   "mimetype": "text/x-python",
   "name": "python",
   "nbconvert_exporter": "python",
   "pygments_lexer": "ipython3",
   "version": "3.11.9"
  }
 },
 "nbformat": 4,
 "nbformat_minor": 5
}
